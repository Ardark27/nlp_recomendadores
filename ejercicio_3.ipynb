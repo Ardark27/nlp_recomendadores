{
 "cells": [
  {
   "cell_type": "markdown",
   "metadata": {},
   "source": [
    "**5p - 3** Mediante el dataset **Financial PhraseBank** (para\n",
    "las frases **100% agree** con el dataset de clase) construir un clasificador de sentimientos con las\n",
    "siguientes técnicas. Comparar sobre test los resultados de vuestro modelo con algún modelo de\n",
    "análisis de sentimiento ya implementado como nltk y etc:"
   ]
  },
  {
   "cell_type": "markdown",
   "metadata": {},
   "source": [
    "Se evaluarán los resultados en función de la distancia al benchmark 0.98 acc(allagree), la \n",
    "complejidad de la solución (embeddings utilizados y entrenados, etc) y la\n",
    "explicación del proceso.\n",
    "- Redes recurrentes\n",
    "- Redes convolucionales\n",
    "- transformers"
   ]
  },
  {
   "cell_type": "code",
   "execution_count": 245,
   "metadata": {},
   "outputs": [],
   "source": [
    "# Vamos a cargar los datos que vamos a utilizar en todos los ejercicios\n",
    "import pandas as pd\n",
    "dataset_df = pd.read_csv(\n",
    "    'Sentences_AllAgree.csv',\n",
    "    header=None,\n",
    "    encoding=\"iso-8859-1\")\n",
    "dataset_df.columns = ['sentence', 'sentiment', 'sentence_clear', 'label']"
   ]
  },
  {
   "cell_type": "code",
   "execution_count": 246,
   "metadata": {},
   "outputs": [
    {
     "data": {
      "text/plain": [
       "(sentiment\n",
       " neutral     1390\n",
       " positive     570\n",
       " negative     303\n",
       " dtype: int64,\n",
       " label\n",
       " 1    1390\n",
       " 2     570\n",
       " 0     303\n",
       " dtype: int64)"
      ]
     },
     "execution_count": 246,
     "metadata": {},
     "output_type": "execute_result"
    }
   ],
   "source": [
    "dataset_df.value_counts('sentiment'),dataset_df.value_counts('label')"
   ]
  },
  {
   "cell_type": "markdown",
   "metadata": {},
   "source": [
    "Vamos a realizar las particiones que vamos a utilizar en los ejercicios, realizaremos la partición con sklearn"
   ]
  },
  {
   "cell_type": "code",
   "execution_count": 247,
   "metadata": {},
   "outputs": [
    {
     "data": {
      "text/html": [
       "<div>\n",
       "<style scoped>\n",
       "    .dataframe tbody tr th:only-of-type {\n",
       "        vertical-align: middle;\n",
       "    }\n",
       "\n",
       "    .dataframe tbody tr th {\n",
       "        vertical-align: top;\n",
       "    }\n",
       "\n",
       "    .dataframe thead th {\n",
       "        text-align: right;\n",
       "    }\n",
       "</style>\n",
       "<table border=\"1\" class=\"dataframe\">\n",
       "  <thead>\n",
       "    <tr style=\"text-align: right;\">\n",
       "      <th></th>\n",
       "      <th>sentence</th>\n",
       "      <th>sentiment</th>\n",
       "      <th>sentence_clear</th>\n",
       "      <th>label</th>\n",
       "    </tr>\n",
       "  </thead>\n",
       "  <tbody>\n",
       "    <tr>\n",
       "      <th>0</th>\n",
       "      <td>- The Group -Â¦ s sales during the period were...</td>\n",
       "      <td>neutral</td>\n",
       "      <td>group  sale period eur 316 million eur 366 mi...</td>\n",
       "      <td>1</td>\n",
       "    </tr>\n",
       "    <tr>\n",
       "      <th>1</th>\n",
       "      <td>Finnish investment company Neomarkka is the ma...</td>\n",
       "      <td>neutral</td>\n",
       "      <td>finnish investment company neomarkka main owne...</td>\n",
       "      <td>1</td>\n",
       "    </tr>\n",
       "    <tr>\n",
       "      <th>2</th>\n",
       "      <td>The company slipped to an operating loss of EU...</td>\n",
       "      <td>negative</td>\n",
       "      <td>company slip operate loss eur 26 million profi...</td>\n",
       "      <td>0</td>\n",
       "    </tr>\n",
       "    <tr>\n",
       "      <th>3</th>\n",
       "      <td>According to Atria 's President and CEO Matti ...</td>\n",
       "      <td>positive</td>\n",
       "      <td>accord atrium president ceo matti tikkakoski  ...</td>\n",
       "      <td>2</td>\n",
       "    </tr>\n",
       "    <tr>\n",
       "      <th>4</th>\n",
       "      <td>In 2009 , Fiskars ' cash flow from operating a...</td>\n",
       "      <td>positive</td>\n",
       "      <td>2009  fiskars  cash flow operate activity amou...</td>\n",
       "      <td>2</td>\n",
       "    </tr>\n",
       "  </tbody>\n",
       "</table>\n",
       "</div>"
      ],
      "text/plain": [
       "                                            sentence sentiment  \\\n",
       "0  - The Group -Â¦ s sales during the period were...   neutral   \n",
       "1  Finnish investment company Neomarkka is the ma...   neutral   \n",
       "2  The company slipped to an operating loss of EU...  negative   \n",
       "3  According to Atria 's President and CEO Matti ...  positive   \n",
       "4  In 2009 , Fiskars ' cash flow from operating a...  positive   \n",
       "\n",
       "                                      sentence_clear  label  \n",
       "0   group  sale period eur 316 million eur 366 mi...      1  \n",
       "1  finnish investment company neomarkka main owne...      1  \n",
       "2  company slip operate loss eur 26 million profi...      0  \n",
       "3  accord atrium president ceo matti tikkakoski  ...      2  \n",
       "4  2009  fiskars  cash flow operate activity amou...      2  "
      ]
     },
     "execution_count": 247,
     "metadata": {},
     "output_type": "execute_result"
    }
   ],
   "source": [
    "from sklearn.model_selection import train_test_split\n",
    "from sklearn.utils import shuffle\n",
    "\n",
    "dataset_df = shuffle(dataset_df,random_state=42).reset_index(drop=True) # random_state=42 para replicabilidad\n",
    "dataset_df.head()"
   ]
  },
  {
   "cell_type": "code",
   "execution_count": 248,
   "metadata": {},
   "outputs": [],
   "source": [
    "# Vamos a dividir el dataset en train y test\n",
    "x_train, x_test, y_train, y_test = train_test_split(\n",
    "    dataset_df['sentence'].tolist(),\n",
    "    dataset_df['label'].tolist(),\n",
    "    test_size=0.3, \n",
    "    random_state=42)# ponemos random_state para que sea reproducible"
   ]
  },
  {
   "cell_type": "markdown",
   "metadata": {},
   "source": [
    "Vamos a hacer una representación para saber la longitud máxima de las frases"
   ]
  },
  {
   "cell_type": "code",
   "execution_count": 249,
   "metadata": {},
   "outputs": [
    {
     "data": {
      "text/plain": [
       "<AxesSubplot:>"
      ]
     },
     "execution_count": 249,
     "metadata": {},
     "output_type": "execute_result"
    },
    {
     "data": {
      "image/png": "[encoded data removed]",
      "text/plain": [
       "<Figure size 432x288 with 1 Axes>"
      ]
     },
     "metadata": {},
     "output_type": "display_data"
    }
   ],
   "source": [
    "dataset_df['sentence'].apply(lambda x: len(x.split(\" \"))).hist()"
   ]
  },
  {
   "cell_type": "markdown",
   "metadata": {},
   "source": [
    "Longitud máxima 60, esto lo tendremos que tener en cuenta a la hora de poner el padding"
   ]
  },
  {
   "cell_type": "code",
   "execution_count": 250,
   "metadata": {},
   "outputs": [],
   "source": [
    "maxlen = 60"
   ]
  },
  {
   "cell_type": "markdown",
   "metadata": {},
   "source": [
    "### Redes recurrentes"
   ]
  },
  {
   "cell_type": "markdown",
   "metadata": {},
   "source": [
    "Vamos a usar un preprocesado de hugginface que se puede ver [aquí](https://huggingface.co/docs/transformers/preprocessing)\n",
    "\n",
    "- Es uno de los que se utilizan para bert"
   ]
  },
  {
   "cell_type": "code",
   "execution_count": 251,
   "metadata": {},
   "outputs": [],
   "source": [
    "from transformers import AutoTokenizer\n",
    "import tensorflow as tf\n",
    "import numpy as np\n",
    "\n",
    "tokenizer = AutoTokenizer.from_pretrained(\"bert-base-cased\")"
   ]
  },
  {
   "cell_type": "markdown",
   "metadata": {},
   "source": [
    "Vamos a utilizar el tokenizador de BERT, ya que este nos incluye directamente los tokens de \\<start\\> \\<end\\> y \\<padding\\>, nos convierte los resultados en tensores de tensorflow, añade el padding, se puede elegir la longitud máxima.\n",
    "\n",
    "**No** Vamos a utilizar el embedding de BERT ya que queremos entrenar el nuestro propio, para el caso del transformer no será así."
   ]
  },
  {
   "cell_type": "code",
   "execution_count": 252,
   "metadata": {},
   "outputs": [],
   "source": [
    "# Vamos a tokenizar el texto con el tokenizer de BERT y a convertirlo en un tensor de longitud fija 60\n",
    "encoded_input_train  = tokenizer(x_train, padding=True, truncation=True, max_length=60, return_tensors=\"tf\")\n",
    "x_train = encoded_input_train['input_ids']\n",
    "\n",
    "encoded_input_test  = tokenizer(x_test, padding=True, truncation=True, max_length=60, return_tensors=\"tf\")\n",
    "x_test = encoded_input_test['input_ids']\n"
   ]
  },
  {
   "cell_type": "code",
   "execution_count": 253,
   "metadata": {},
   "outputs": [
    {
     "name": "stdout",
     "output_type": "stream",
     "text": [
      "El número de palabras únicas es : 5389\n"
     ]
    }
   ],
   "source": [
    "n_features = [i.tolist() for i in x_train.numpy()]\n",
    "# unpacking list\n",
    "n_features = [item for sublist in n_features for item in sublist]\n",
    "# counting number of unique elements\n",
    "max_features = len(set(n_features))\n",
    "print('El número de palabras únicas es :', max_features)"
   ]
  },
  {
   "cell_type": "markdown",
   "metadata": {},
   "source": [
    "Vamos a definir el modelo"
   ]
  },
  {
   "cell_type": "code",
   "execution_count": 254,
   "metadata": {},
   "outputs": [],
   "source": [
    "from tensorflow.keras.models import Sequential\n",
    "from tensorflow.keras.layers import Dense, Dropout, Embedding, LSTM, Bidirectional, Flatten"
   ]
  },
  {
   "cell_type": "code",
   "execution_count": 278,
   "metadata": {},
   "outputs": [],
   "source": [
    "model_recurrente = Sequential()\n",
    "# Max features es el número es palabras únicas que tenemos en el vocabulario\n",
    "model_recurrente.add(Embedding(\n",
    "            input_dim=max_features,\n",
    "            output_dim=256,\n",
    "            input_length=maxlen,\n",
    "            trainable=True\n",
    "        ))\n",
    "model_recurrente.add(Dropout(0.5))\n",
    "model_recurrente.add(Bidirectional(LSTM(25, return_sequences=True)))\n",
    "model_recurrente.add(Dropout(0.5))\n",
    "model_recurrente.add(Bidirectional(LSTM(25, return_sequences=True)))\n",
    "model_recurrente.add(Dropout(0.5))\n",
    "model_recurrente.add(Flatten())\n",
    "model_recurrente.add(Dense(32, activation='relu'))\n",
    "model_recurrente.add(Dense(16, activation='relu'))\n",
    "model_recurrente.add(Dense(3, activation='softmax'))\n",
    "\n"
   ]
  },
  {
   "cell_type": "code",
   "execution_count": 279,
   "metadata": {},
   "outputs": [
    {
     "name": "stdout",
     "output_type": "stream",
     "text": [
      "Model: \"sequential_20\"\n",
      "_________________________________________________________________\n",
      " Layer (type)                Output Shape              Param #   \n",
      "=================================================================\n",
      " embedding_33 (Embedding)    (None, 60, 256)           1379584   \n",
      "                                                                 \n",
      " dropout_79 (Dropout)        (None, 60, 256)           0         \n",
      "                                                                 \n",
      " bidirectional_28 (Bidirecti  (None, 60, 50)           56400     \n",
      " onal)                                                           \n",
      "                                                                 \n",
      " dropout_80 (Dropout)        (None, 60, 50)            0         \n",
      "                                                                 \n",
      " bidirectional_29 (Bidirecti  (None, 60, 50)           15200     \n",
      " onal)                                                           \n",
      "                                                                 \n",
      " dropout_81 (Dropout)        (None, 60, 50)            0         \n",
      "                                                                 \n",
      " flatten_11 (Flatten)        (None, 3000)              0         \n",
      "                                                                 \n",
      " dense_57 (Dense)            (None, 32)                96032     \n",
      "                                                                 \n",
      " dense_58 (Dense)            (None, 16)                528       \n",
      "                                                                 \n",
      " dense_59 (Dense)            (None, 3)                 51        \n",
      "                                                                 \n",
      "=================================================================\n",
      "Total params: 1,547,795\n",
      "Trainable params: 1,547,795\n",
      "Non-trainable params: 0\n",
      "_________________________________________________________________\n"
     ]
    }
   ],
   "source": [
    "model_recurrente.summary()"
   ]
  },
  {
   "cell_type": "markdown",
   "metadata": {},
   "source": [
    "Hemos probado distintos learning rates, con este conseguimos que aprenda a un ritmo suficiente, y que no sobre ajuste demasiado rápido"
   ]
  },
  {
   "cell_type": "code",
   "execution_count": 280,
   "metadata": {},
   "outputs": [],
   "source": [
    "optimizer = tf.keras.optimizers.Adam(learning_rate=3e-5)\n",
    "model_recurrente.compile(optimizer=optimizer, loss='sparse_categorical_crossentropy', metrics=['accuracy'])"
   ]
  },
  {
   "cell_type": "markdown",
   "metadata": {},
   "source": [
    "Vamos a definir los callbacks"
   ]
  },
  {
   "cell_type": "code",
   "execution_count": 281,
   "metadata": {},
   "outputs": [],
   "source": [
    "early_stopping = tf.keras.callbacks.EarlyStopping(\n",
    "    monitor='val_loss',\n",
    "    patience=10,\n",
    "    restore_best_weights=True)\n",
    "reduce_lr = tf.keras.callbacks.ReduceLROnPlateau(\n",
    "    monitor='val_loss',\n",
    "    factor=0.2,\n",
    "    patience=5,\n",
    "    min_lr=1e-8)"
   ]
  },
  {
   "cell_type": "code",
   "execution_count": 282,
   "metadata": {},
   "outputs": [
    {
     "name": "stdout",
     "output_type": "stream",
     "text": [
      "Train...\n",
      "Epoch 1/100\n",
      "317/317 [==============================] - 22s 43ms/step - loss: 0.9962 - accuracy: 0.5683 - val_loss: 0.8910 - val_accuracy: 0.6183 - lr: 3.0000e-05\n",
      "Epoch 2/100\n",
      "317/317 [==============================] - 11s 34ms/step - loss: 0.8782 - accuracy: 0.6117 - val_loss: 0.8535 - val_accuracy: 0.6183 - lr: 3.0000e-05\n",
      "Epoch 3/100\n",
      "317/317 [==============================] - 11s 33ms/step - loss: 0.8239 - accuracy: 0.6243 - val_loss: 0.7856 - val_accuracy: 0.6782 - lr: 3.0000e-05\n",
      "Epoch 4/100\n",
      "317/317 [==============================] - 10s 33ms/step - loss: 0.7169 - accuracy: 0.6772 - val_loss: 0.7129 - val_accuracy: 0.7098 - lr: 3.0000e-05\n",
      "Epoch 5/100\n",
      "317/317 [==============================] - 11s 34ms/step - loss: 0.6216 - accuracy: 0.7301 - val_loss: 0.6710 - val_accuracy: 0.7192 - lr: 3.0000e-05\n",
      "Epoch 6/100\n",
      "317/317 [==============================] - 11s 33ms/step - loss: 0.5684 - accuracy: 0.7553 - val_loss: 0.6462 - val_accuracy: 0.7319 - lr: 3.0000e-05\n",
      "Epoch 7/100\n",
      "317/317 [==============================] - 10s 33ms/step - loss: 0.5321 - accuracy: 0.7553 - val_loss: 0.6400 - val_accuracy: 0.7350 - lr: 3.0000e-05\n",
      "Epoch 8/100\n",
      "317/317 [==============================] - 10s 33ms/step - loss: 0.4870 - accuracy: 0.7916 - val_loss: 0.6269 - val_accuracy: 0.7508 - lr: 3.0000e-05\n",
      "Epoch 9/100\n",
      "317/317 [==============================] - 11s 33ms/step - loss: 0.4638 - accuracy: 0.7987 - val_loss: 0.6160 - val_accuracy: 0.7508 - lr: 3.0000e-05\n",
      "Epoch 10/100\n",
      "317/317 [==============================] - 10s 33ms/step - loss: 0.4348 - accuracy: 0.8058 - val_loss: 0.6191 - val_accuracy: 0.7571 - lr: 3.0000e-05\n",
      "Epoch 11/100\n",
      "317/317 [==============================] - 10s 33ms/step - loss: 0.4099 - accuracy: 0.8114 - val_loss: 0.6135 - val_accuracy: 0.7634 - lr: 3.0000e-05\n",
      "Epoch 12/100\n",
      "317/317 [==============================] - 10s 32ms/step - loss: 0.4027 - accuracy: 0.8185 - val_loss: 0.6031 - val_accuracy: 0.7792 - lr: 3.0000e-05\n",
      "Epoch 13/100\n",
      "317/317 [==============================] - 10s 32ms/step - loss: 0.3708 - accuracy: 0.8224 - val_loss: 0.6160 - val_accuracy: 0.7760 - lr: 3.0000e-05\n",
      "Epoch 14/100\n",
      "317/317 [==============================] - 11s 33ms/step - loss: 0.3504 - accuracy: 0.8287 - val_loss: 0.6452 - val_accuracy: 0.7603 - lr: 3.0000e-05\n",
      "Epoch 15/100\n",
      "317/317 [==============================] - 10s 31ms/step - loss: 0.3439 - accuracy: 0.8343 - val_loss: 0.6441 - val_accuracy: 0.7792 - lr: 3.0000e-05\n",
      "Epoch 16/100\n",
      "317/317 [==============================] - 10s 32ms/step - loss: 0.3421 - accuracy: 0.8327 - val_loss: 0.6611 - val_accuracy: 0.7508 - lr: 3.0000e-05\n",
      "Epoch 17/100\n",
      "317/317 [==============================] - 10s 33ms/step - loss: 0.3216 - accuracy: 0.8461 - val_loss: 0.6544 - val_accuracy: 0.7729 - lr: 3.0000e-05\n",
      "Epoch 18/100\n",
      "317/317 [==============================] - 10s 33ms/step - loss: 0.3174 - accuracy: 0.8437 - val_loss: 0.6572 - val_accuracy: 0.7729 - lr: 6.0000e-06\n",
      "Epoch 19/100\n",
      "317/317 [==============================] - 10s 32ms/step - loss: 0.3105 - accuracy: 0.8445 - val_loss: 0.6634 - val_accuracy: 0.7760 - lr: 6.0000e-06\n",
      "Epoch 20/100\n",
      "317/317 [==============================] - 10s 33ms/step - loss: 0.3027 - accuracy: 0.8437 - val_loss: 0.6706 - val_accuracy: 0.7760 - lr: 6.0000e-06\n",
      "Epoch 21/100\n",
      "317/317 [==============================] - 10s 33ms/step - loss: 0.3092 - accuracy: 0.8421 - val_loss: 0.6698 - val_accuracy: 0.7729 - lr: 6.0000e-06\n",
      "Epoch 22/100\n",
      "317/317 [==============================] - 10s 33ms/step - loss: 0.3072 - accuracy: 0.8445 - val_loss: 0.6781 - val_accuracy: 0.7792 - lr: 6.0000e-06\n"
     ]
    }
   ],
   "source": [
    "print('Train...')\n",
    "batch_size=4\n",
    "epochs=100\n",
    "validation_split=0.2\n",
    "\n",
    "history = model_recurrente.fit(x_train, np.array(y_train),\n",
    "          batch_size=batch_size,\n",
    "          epochs=epochs,\n",
    "          validation_split=validation_split,\n",
    "          verbose=1,\n",
    "          callbacks=[early_stopping, reduce_lr])\n",
    "\n"
   ]
  },
  {
   "cell_type": "code",
   "execution_count": 284,
   "metadata": {},
   "outputs": [
    {
     "data": {
      "text/plain": [
       "Text(0, 0.5, 'Accuracy')"
      ]
     },
     "execution_count": 284,
     "metadata": {},
     "output_type": "execute_result"
    },
    {
     "data": {
      "image/png": "[encoded data removed]",
      "text/plain": [
       "<Figure size 432x288 with 1 Axes>"
      ]
     },
     "metadata": {},
     "output_type": "display_data"
    }
   ],
   "source": [
    "# Vamos a mostrar las métricas\n",
    "import matplotlib.pyplot as plt\n",
    "plt.style.use('ggplot')\n",
    "\n",
    "plt.plot(history.history['accuracy'], label='accuracy')\n",
    "plt.plot(history.history['val_accuracy'], label = 'val_accuracy')\n",
    "plt.xlabel('Epoch')\n",
    "plt.ylabel('Accuracy')"
   ]
  },
  {
   "cell_type": "code",
   "execution_count": 285,
   "metadata": {},
   "outputs": [
    {
     "data": {
      "text/plain": [
       "Text(0, 0.5, 'loss')"
      ]
     },
     "execution_count": 285,
     "metadata": {},
     "output_type": "execute_result"
    },
    {
     "data": {
      "image/png": "[encoded data removed]",
      "text/plain": [
       "<Figure size 432x288 with 1 Axes>"
      ]
     },
     "metadata": {},
     "output_type": "display_data"
    }
   ],
   "source": [
    "plt.plot(history.history['loss'], label='loss')\n",
    "plt.plot(history.history['val_loss'], label = 'val_loss')\n",
    "plt.xlabel('Epoch')\n",
    "plt.ylabel('loss')"
   ]
  },
  {
   "cell_type": "code",
   "execution_count": 286,
   "metadata": {},
   "outputs": [
    {
     "name": "stdout",
     "output_type": "stream",
     "text": [
      "22/22 [==============================] - 1s 21ms/step - loss: 0.5504 - accuracy: 0.7850\n"
     ]
    },
    {
     "data": {
      "text/plain": [
       "[0.5504391193389893, 0.784977912902832]"
      ]
     },
     "execution_count": 286,
     "metadata": {},
     "output_type": "execute_result"
    }
   ],
   "source": [
    "model_recurrente.evaluate(x_test, np.array(y_test))"
   ]
  },
  {
   "cell_type": "markdown",
   "metadata": {},
   "source": [
    "He probado varias configuraciones, hay algunas con solo lstm no bidireccionales y con menos dropout que funcionaban mejor, pero este tipo de modelo es el único que no se sobreajustaba a las 4 épocas. Se podría reducir más el overfitting pero considero que este es un resultado suficientemente bueno para el tipo de estructura \n",
    "\n",
    "- El porcentaje del predictor por defecto sería 61,4%, con este modelo se consigue un ~78,5%\n",
    "- Al final de este ejercicio se realizará una comparación de todos los modelos"
   ]
  },
  {
   "cell_type": "code",
   "execution_count": 287,
   "metadata": {},
   "outputs": [],
   "source": [
    "model_recurrente.save('model_recurrente.h5')"
   ]
  },
  {
   "cell_type": "markdown",
   "metadata": {},
   "source": [
    "### Redes convolucionales"
   ]
  },
  {
   "cell_type": "markdown",
   "metadata": {},
   "source": [
    "En este caso tambien vamos a utilizar el tokenizar de BERT, pero **no** vamos a usar su embbeding. Vamos a utilizar los mismos datos que hemos preparado en el ejercicio anterior."
   ]
  },
  {
   "cell_type": "code",
   "execution_count": null,
   "metadata": {},
   "outputs": [
    {
     "data": {
      "text/plain": [
       "TensorShape([1584, 60])"
      ]
     },
     "execution_count": 156,
     "metadata": {},
     "output_type": "execute_result"
    }
   ],
   "source": [
    "x_train.shape"
   ]
  },
  {
   "cell_type": "markdown",
   "metadata": {},
   "source": [
    "En este caso vamos a definir el modelo de manera funcional, para poder usar convoluciones de distintas longitudes"
   ]
  },
  {
   "cell_type": "code",
   "execution_count": null,
   "metadata": {},
   "outputs": [],
   "source": [
    "from tensorflow.keras.models import Model\n",
    "from tensorflow.keras.layers import Convolution1D, MaxPooling1D, Input, concatenate, GlobalMaxPooling1D, GlobalAveragePooling1D"
   ]
  },
  {
   "cell_type": "code",
   "execution_count": 270,
   "metadata": {},
   "outputs": [],
   "source": [
    "# Modelo convolucional funcional\n",
    "model_input = tf.keras.Input(shape=(60,), dtype='int32')\n",
    "# Usamos el mismo tipo embedding que en el modelo recurrente\n",
    "embbeding_model = Embedding(\n",
    "            input_dim=max_features,\n",
    "            output_dim=256,\n",
    "            input_length=maxlen,\n",
    "            trainable=True\n",
    "        )\n",
    "x = embbeding_model(model_input)\n",
    "x = Dropout(0.5)(x)\n",
    "\n",
    "# Creamos 6 capas convolucionales con diferentes tamaños de ventana \n",
    "conv_7 = Convolution1D(128, 7, activation='relu')(x)\n",
    "conv_6 = Convolution1D(128, 6, activation='relu')(x)\n",
    "conv_5 = Convolution1D(128, 5, activation='relu')(x)\n",
    "conv_4 = Convolution1D(128, 4, activation='relu')(x)\n",
    "conv_3 = Convolution1D(128, 3, activation='relu')(x)\n",
    "conv_2 = Convolution1D(128, 2, activation='relu')(x)\n",
    "\n",
    "# Max pooling de cada capa convolucional, para quedarnos con el patrón más relevante\n",
    "maxpool_7 = MaxPooling1D(3)(conv_7)\n",
    "maxpool_6 = MaxPooling1D(3)(conv_6)\n",
    "maxpool_5 = MaxPooling1D(3)(conv_5)\n",
    "maxpool_4 = MaxPooling1D(3)(conv_4)\n",
    "maxpool_3 = MaxPooling1D(3)(conv_3)\n",
    "maxpool_2 = MaxPooling1D(3)(conv_2)\n",
    "\n",
    "# Concatenamos las capas convolucionales y le realizamos un global max pooling\n",
    "# para quedarnos con el patrón más relevante\n",
    "# hemos probado con global average pooling y no ha mejorado el modelo (aumentaba el overfitting)\n",
    "z = concatenate([\n",
    "    GlobalMaxPooling1D()(maxpool_7),\n",
    "    GlobalMaxPooling1D()(maxpool_6),\n",
    "    GlobalMaxPooling1D()(maxpool_5),\n",
    "    GlobalMaxPooling1D()(maxpool_4),\n",
    "    GlobalMaxPooling1D()(maxpool_3), \n",
    "    GlobalMaxPooling1D()(maxpool_2)])\n",
    "z = Dropout(0.5)(z)\n",
    "\n",
    "# Añadimos una capa densa con 32 neuronas y una capa densa con 16 neuronas\n",
    "# y una capa de salida con 3 neuronas (una por cada clase)\n",
    "\n",
    "z = Dense(32, activation='relu')(z)\n",
    "z = Dense(16, activation='relu')(z)\n",
    "model_output = Dense(3, activation='softmax')(z)\n",
    "\n",
    "model_convolutional = Model(model_input, model_output)"
   ]
  },
  {
   "cell_type": "code",
   "execution_count": 271,
   "metadata": {},
   "outputs": [
    {
     "name": "stdout",
     "output_type": "stream",
     "text": [
      "Model: \"model_13\"\n",
      "__________________________________________________________________________________________________\n",
      " Layer (type)                   Output Shape         Param #     Connected to                     \n",
      "==================================================================================================\n",
      " input_14 (InputLayer)          [(None, 60)]         0           []                               \n",
      "                                                                                                  \n",
      " embedding_32 (Embedding)       (None, 60, 256)      1379584     ['input_14[0][0]']               \n",
      "                                                                                                  \n",
      " dropout_77 (Dropout)           (None, 60, 256)      0           ['embedding_32[0][0]']           \n",
      "                                                                                                  \n",
      " conv1d_48 (Conv1D)             (None, 54, 128)      229504      ['dropout_77[0][0]']             \n",
      "                                                                                                  \n",
      " conv1d_49 (Conv1D)             (None, 55, 128)      196736      ['dropout_77[0][0]']             \n",
      "                                                                                                  \n",
      " conv1d_50 (Conv1D)             (None, 56, 128)      163968      ['dropout_77[0][0]']             \n",
      "                                                                                                  \n",
      " conv1d_51 (Conv1D)             (None, 57, 128)      131200      ['dropout_77[0][0]']             \n",
      "                                                                                                  \n",
      " conv1d_52 (Conv1D)             (None, 58, 128)      98432       ['dropout_77[0][0]']             \n",
      "                                                                                                  \n",
      " conv1d_53 (Conv1D)             (None, 59, 128)      65664       ['dropout_77[0][0]']             \n",
      "                                                                                                  \n",
      " max_pooling1d_48 (MaxPooling1D  (None, 18, 128)     0           ['conv1d_48[0][0]']              \n",
      " )                                                                                                \n",
      "                                                                                                  \n",
      " max_pooling1d_49 (MaxPooling1D  (None, 18, 128)     0           ['conv1d_49[0][0]']              \n",
      " )                                                                                                \n",
      "                                                                                                  \n",
      " max_pooling1d_50 (MaxPooling1D  (None, 18, 128)     0           ['conv1d_50[0][0]']              \n",
      " )                                                                                                \n",
      "                                                                                                  \n",
      " max_pooling1d_51 (MaxPooling1D  (None, 19, 128)     0           ['conv1d_51[0][0]']              \n",
      " )                                                                                                \n",
      "                                                                                                  \n",
      " max_pooling1d_52 (MaxPooling1D  (None, 19, 128)     0           ['conv1d_52[0][0]']              \n",
      " )                                                                                                \n",
      "                                                                                                  \n",
      " max_pooling1d_53 (MaxPooling1D  (None, 19, 128)     0           ['conv1d_53[0][0]']              \n",
      " )                                                                                                \n",
      "                                                                                                  \n",
      " global_max_pooling1d_45 (Globa  (None, 128)         0           ['max_pooling1d_48[0][0]']       \n",
      " lMaxPooling1D)                                                                                   \n",
      "                                                                                                  \n",
      " global_max_pooling1d_46 (Globa  (None, 128)         0           ['max_pooling1d_49[0][0]']       \n",
      " lMaxPooling1D)                                                                                   \n",
      "                                                                                                  \n",
      " global_max_pooling1d_47 (Globa  (None, 128)         0           ['max_pooling1d_50[0][0]']       \n",
      " lMaxPooling1D)                                                                                   \n",
      "                                                                                                  \n",
      " global_max_pooling1d_48 (Globa  (None, 128)         0           ['max_pooling1d_51[0][0]']       \n",
      " lMaxPooling1D)                                                                                   \n",
      "                                                                                                  \n",
      " global_max_pooling1d_49 (Globa  (None, 128)         0           ['max_pooling1d_52[0][0]']       \n",
      " lMaxPooling1D)                                                                                   \n",
      "                                                                                                  \n",
      " global_max_pooling1d_50 (Globa  (None, 128)         0           ['max_pooling1d_53[0][0]']       \n",
      " lMaxPooling1D)                                                                                   \n",
      "                                                                                                  \n",
      " concatenate_13 (Concatenate)   (None, 768)          0           ['global_max_pooling1d_45[0][0]',\n",
      "                                                                  'global_max_pooling1d_46[0][0]',\n",
      "                                                                  'global_max_pooling1d_47[0][0]',\n",
      "                                                                  'global_max_pooling1d_48[0][0]',\n",
      "                                                                  'global_max_pooling1d_49[0][0]',\n",
      "                                                                  'global_max_pooling1d_50[0][0]']\n",
      "                                                                                                  \n",
      " dropout_78 (Dropout)           (None, 768)          0           ['concatenate_13[0][0]']         \n",
      "                                                                                                  \n",
      " dense_54 (Dense)               (None, 32)           24608       ['dropout_78[0][0]']             \n",
      "                                                                                                  \n",
      " dense_55 (Dense)               (None, 16)           528         ['dense_54[0][0]']               \n",
      "                                                                                                  \n",
      " dense_56 (Dense)               (None, 3)            51          ['dense_55[0][0]']               \n",
      "                                                                                                  \n",
      "==================================================================================================\n",
      "Total params: 2,290,275\n",
      "Trainable params: 2,290,275\n",
      "Non-trainable params: 0\n",
      "__________________________________________________________________________________________________\n"
     ]
    }
   ],
   "source": [
    "model_convolutional.summary()"
   ]
  },
  {
   "cell_type": "code",
   "execution_count": 272,
   "metadata": {},
   "outputs": [],
   "source": [
    "optimizer = tf.keras.optimizers.Adam(learning_rate=3e-4)\n",
    "model_convolutional.compile(optimizer=optimizer, loss='sparse_categorical_crossentropy', metrics=['accuracy'])"
   ]
  },
  {
   "cell_type": "markdown",
   "metadata": {},
   "source": [
    "Vamos a definir los callbacks"
   ]
  },
  {
   "cell_type": "code",
   "execution_count": 273,
   "metadata": {},
   "outputs": [],
   "source": [
    "early_stopping = tf.keras.callbacks.EarlyStopping(\n",
    "    monitor='val_loss',\n",
    "    patience=10,\n",
    "    restore_best_weights=True)\n",
    "reduce_lr = tf.keras.callbacks.ReduceLROnPlateau(\n",
    "    monitor='val_loss',\n",
    "    factor=0.5,\n",
    "    patience=5,\n",
    "    min_lr=1e-8)"
   ]
  },
  {
   "cell_type": "markdown",
   "metadata": {},
   "source": [
    "Entrenamos el modelo"
   ]
  },
  {
   "cell_type": "code",
   "execution_count": 274,
   "metadata": {},
   "outputs": [
    {
     "name": "stdout",
     "output_type": "stream",
     "text": [
      "Train...\n",
      "Epoch 1/100\n",
      "317/317 [==============================] - 10s 23ms/step - loss: 0.8558 - accuracy: 0.6448 - val_loss: 0.7870 - val_accuracy: 0.6877 - lr: 3.0000e-04\n",
      "Epoch 2/100\n",
      "317/317 [==============================] - 6s 19ms/step - loss: 0.6379 - accuracy: 0.7388 - val_loss: 0.6292 - val_accuracy: 0.7445 - lr: 3.0000e-04\n",
      "Epoch 3/100\n",
      "317/317 [==============================] - 6s 19ms/step - loss: 0.4972 - accuracy: 0.7908 - val_loss: 0.5509 - val_accuracy: 0.7792 - lr: 3.0000e-04\n",
      "Epoch 4/100\n",
      "317/317 [==============================] - 6s 19ms/step - loss: 0.3941 - accuracy: 0.8224 - val_loss: 0.4858 - val_accuracy: 0.8265 - lr: 3.0000e-04\n",
      "Epoch 5/100\n",
      "317/317 [==============================] - 6s 19ms/step - loss: 0.2872 - accuracy: 0.8753 - val_loss: 0.4459 - val_accuracy: 0.8580 - lr: 3.0000e-04\n",
      "Epoch 6/100\n",
      "317/317 [==============================] - 6s 19ms/step - loss: 0.2024 - accuracy: 0.9171 - val_loss: 0.4217 - val_accuracy: 0.8707 - lr: 3.0000e-04\n",
      "Epoch 7/100\n",
      "317/317 [==============================] - 6s 18ms/step - loss: 0.1373 - accuracy: 0.9542 - val_loss: 0.4374 - val_accuracy: 0.8738 - lr: 3.0000e-04\n",
      "Epoch 8/100\n",
      "317/317 [==============================] - 6s 18ms/step - loss: 0.1070 - accuracy: 0.9637 - val_loss: 0.4709 - val_accuracy: 0.8644 - lr: 3.0000e-04\n",
      "Epoch 9/100\n",
      "317/317 [==============================] - 7s 22ms/step - loss: 0.0767 - accuracy: 0.9724 - val_loss: 0.5072 - val_accuracy: 0.8580 - lr: 3.0000e-04\n",
      "Epoch 10/100\n",
      "317/317 [==============================] - 8s 26ms/step - loss: 0.0542 - accuracy: 0.9834 - val_loss: 0.5067 - val_accuracy: 0.8738 - lr: 3.0000e-04\n",
      "Epoch 11/100\n",
      "317/317 [==============================] - 8s 26ms/step - loss: 0.0436 - accuracy: 0.9834 - val_loss: 0.5098 - val_accuracy: 0.8801 - lr: 3.0000e-04\n",
      "Epoch 12/100\n",
      "317/317 [==============================] - 8s 26ms/step - loss: 0.0251 - accuracy: 0.9945 - val_loss: 0.5137 - val_accuracy: 0.8801 - lr: 1.5000e-04\n",
      "Epoch 13/100\n",
      "317/317 [==============================] - 8s 26ms/step - loss: 0.0256 - accuracy: 0.9929 - val_loss: 0.5298 - val_accuracy: 0.8770 - lr: 1.5000e-04\n",
      "Epoch 14/100\n",
      "317/317 [==============================] - 8s 26ms/step - loss: 0.0202 - accuracy: 0.9945 - val_loss: 0.5380 - val_accuracy: 0.8675 - lr: 1.5000e-04\n",
      "Epoch 15/100\n",
      "317/317 [==============================] - 8s 26ms/step - loss: 0.0160 - accuracy: 0.9953 - val_loss: 0.5856 - val_accuracy: 0.8738 - lr: 1.5000e-04\n",
      "Epoch 16/100\n",
      "317/317 [==============================] - 8s 26ms/step - loss: 0.0151 - accuracy: 0.9968 - val_loss: 0.6067 - val_accuracy: 0.8770 - lr: 1.5000e-04\n"
     ]
    }
   ],
   "source": [
    "print('Train...')\n",
    "batch_size=4\n",
    "epochs=100\n",
    "validation_split=0.2\n",
    "\n",
    "history = model_convolutional.fit(x_train, np.array(y_train),\n",
    "          batch_size=batch_size,\n",
    "          epochs=epochs,\n",
    "          validation_split=validation_split,\n",
    "          verbose=1,\n",
    "          callbacks=[early_stopping, reduce_lr])\n",
    "\n"
   ]
  },
  {
   "cell_type": "code",
   "execution_count": 275,
   "metadata": {},
   "outputs": [
    {
     "data": {
      "text/plain": [
       "Text(0, 0.5, 'Accuracy')"
      ]
     },
     "execution_count": 275,
     "metadata": {},
     "output_type": "execute_result"
    },
    {
     "data": {
      "image/png": "[encoded data removed]",
      "text/plain": [
       "<Figure size 432x288 with 1 Axes>"
      ]
     },
     "metadata": {},
     "output_type": "display_data"
    }
   ],
   "source": [
    "# Vamos a mostrar las métricas\n",
    "import matplotlib.pyplot as plt\n",
    "plt.style.use('ggplot')\n",
    "\n",
    "plt.plot(history.history['accuracy'], label='accuracy')\n",
    "plt.plot(history.history['val_accuracy'], label = 'val_accuracy')\n",
    "plt.xlabel('Epoch')\n",
    "plt.ylabel('Accuracy')"
   ]
  },
  {
   "cell_type": "code",
   "execution_count": 276,
   "metadata": {},
   "outputs": [
    {
     "data": {
      "text/plain": [
       "Text(0, 0.5, 'loss')"
      ]
     },
     "execution_count": 276,
     "metadata": {},
     "output_type": "execute_result"
    },
    {
     "data": {
      "image/png": "[encoded data removed]",
      "text/plain": [
       "<Figure size 432x288 with 1 Axes>"
      ]
     },
     "metadata": {},
     "output_type": "display_data"
    }
   ],
   "source": [
    "plt.plot(history.history['loss'], label='loss')\n",
    "plt.plot(history.history['val_loss'], label = 'val_loss')\n",
    "plt.xlabel('Epoch')\n",
    "plt.ylabel('loss')"
   ]
  },
  {
   "cell_type": "code",
   "execution_count": 277,
   "metadata": {},
   "outputs": [
    {
     "name": "stdout",
     "output_type": "stream",
     "text": [
      "22/22 [==============================] - 1s 15ms/step - loss: 0.3909 - accuracy: 0.8557\n"
     ]
    },
    {
     "data": {
      "text/plain": [
       "[0.39094775915145874, 0.8556700944900513]"
      ]
     },
     "execution_count": 277,
     "metadata": {},
     "output_type": "execute_result"
    }
   ],
   "source": [
    "model_convolutional.evaluate(x_test, np.array(y_test))"
   ]
  },
  {
   "cell_type": "markdown",
   "metadata": {},
   "source": [
    "He probado varias configuraciones, si añado dropout en las últimas capas densas la red no es capaz de aprender. Se podría añadir distintos tipos de regularización como l1 y l2 en el problema, pero al probarlas no he obtenido mejores resultados, y serían demasiados hyperparámetros para hacer finetunning de los mismos. Se podría reducir más el overfitting pero considero que este es un resultado suficiente.\n",
    "\n",
    "- El porcentaje del predictor por defecto sería 61,4%, con este modelo se consigue un ~85,6%\n",
    "- Al final de este ejercicio se realizará una comparación de todos los modelos"
   ]
  },
  {
   "cell_type": "markdown",
   "metadata": {},
   "source": []
  },
  {
   "cell_type": "code",
   "execution_count": 268,
   "metadata": {},
   "outputs": [],
   "source": [
    "model_convolutional.save('model_convolutional.h5')"
   ]
  },
  {
   "cell_type": "markdown",
   "metadata": {},
   "source": [
    "### Transformer"
   ]
  },
  {
   "cell_type": "markdown",
   "metadata": {},
   "source": []
  }
 ],
 "metadata": {
  "kernelspec": {
   "display_name": "Python 3.9.12 ('base')",
   "language": "python",
   "name": "python3"
  },
  "language_info": {
   "codemirror_mode": {
    "name": "ipython",
    "version": 3
   },
   "file_extension": ".py",
   "mimetype": "text/x-python",
   "name": "python",
   "nbconvert_exporter": "python",
   "pygments_lexer": "ipython3",
   "version": "3.9.12"
  },
  "orig_nbformat": 4,
  "vscode": {
   "interpreter": {
    "hash": "18a6b418ca989a304418b74e14b57df096d22507d5bd0d85ac6f17ef362aab2d"
   }
  }
 },
 "nbformat": 4,
 "nbformat_minor": 2
}
