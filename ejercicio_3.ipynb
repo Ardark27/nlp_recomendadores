{
 "cells": [
  {
   "cell_type": "markdown",
   "metadata": {},
   "source": [
    "**5p - 3** Mediante el dataset **Financial PhraseBank** (para\n",
    "las frases **100% agree** con el dataset de clase) construir un clasificador de sentimientos con las\n",
    "siguientes técnicas. Comparar sobre test los resultados de vuestro modelo con algún modelo de\n",
    "análisis de sentimiento ya implementado como nltk y etc:"
   ]
  }
 ],
 "metadata": {
  "kernelspec": {
   "display_name": "Python 3.8.8 ('base')",
   "language": "python",
   "name": "python3"
  },
  "language_info": {
   "name": "python",
   "version": "3.8.8"
  },
  "orig_nbformat": 4,
  "vscode": {
   "interpreter": {
    "hash": "3a2a03ea413f8be244ba01daf0e257f98f0dabeb03c7836e7000a0f3738aa8c9"
   }
  }
 },
 "nbformat": 4,
 "nbformat_minor": 2
}
